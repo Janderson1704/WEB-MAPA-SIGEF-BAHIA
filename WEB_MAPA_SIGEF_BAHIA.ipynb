{
  "nbformat": 4,
  "nbformat_minor": 0,
  "metadata": {
    "colab": {
      "provenance": [],
      "include_colab_link": true
    },
    "kernelspec": {
      "name": "python3",
      "display_name": "Python 3"
    },
    "language_info": {
      "name": "python"
    }
  },
  "cells": [
    {
      "cell_type": "markdown",
      "metadata": {
        "id": "view-in-github",
        "colab_type": "text"
      },
      "source": [
        "<a href=\"https://colab.research.google.com/github/Janderson1704/WEB-MAPA-SIGEF-BAHIA/blob/main/WEB_MAPA_SIGEF_BAHIA.ipynb\" target=\"_parent\"><img src=\"https://colab.research.google.com/assets/colab-badge.svg\" alt=\"Open In Colab\"/></a>"
      ]
    },
    {
      "cell_type": "code",
      "source": [
        "\n",
        "!pip install folium geopandas requests\n",
        "\n",
        "\n",
        "import folium\n",
        "import geopandas as gpd\n",
        "import requests\n",
        "from folium.plugins import MousePosition\n",
        "import IPython.display\n",
        "\n",
        "\n",
        "centro_bahia = [-12.5797, -41.7007]\n",
        "\n",
        "\n",
        "mapa_bahia = folium.Map(location=centro_bahia, zoom_start=7, control_scale=True)\n",
        "\n",
        "\n",
        "folium.TileLayer(\n",
        "    tiles='https://server.arcgisonline.com/ArcGIS/rest/services/World_Imagery/MapServer/tile/{z}/{y}/{x}',\n",
        "    attr='Esri, Maxar, Earthstar Geographics',\n",
        "    name='Esri.WorldImagery'\n",
        ").add_to(mapa_bahia)\n",
        "\n",
        "folium.TileLayer(\n",
        "    tiles='https://{s}.tile.openstreetmap.fr/hot/{z}/{x}/{y}.png',\n",
        "    attr='&copy; OpenStreetMap contributors',\n",
        "    name='OpenStreetMap.HOT'\n",
        ").add_to(mapa_bahia)\n",
        "\n",
        "\n",
        "wms_url = \"http://acervofundiario.incra.gov.br/i3geo/ogc.php?\"\n",
        "folium.raster_layers.WmsTileLayer(\n",
        "    url=wms_url,\n",
        "    name=\"Imóveis Certificados SIGEF - Bahia\",\n",
        "    layers=\"certificada_sigef_particular_ba\",\n",
        "    fmt=\"image/png\",\n",
        "    transparent=True,\n",
        "    version=\"1.1.1\",\n",
        "    opacity=0.5\n",
        ").add_to(mapa_bahia)\n",
        "\n",
        "\n",
        "url_geojson = \"https://acervofundiario.incra.gov.br/dados/geojson/sigef_bahia.geojson\"\n",
        "\n",
        "try:\n",
        "    response = requests.get(url_geojson, verify=False)\n",
        "\n",
        "\n",
        "    if response.status_code == 200:\n",
        "        sigef_geojson = response.json()\n",
        "\n",
        "\n",
        "        sigef_layer = folium.FeatureGroup(name=\"SIGEF - Bahia (Interativo)\")\n",
        "\n",
        "\n",
        "        for feature in sigef_geojson[\"features\"]:\n",
        "            properties = feature.get(\"properties\", {})\n",
        "            codigo_imovel = properties.get(\"codigo_imovel\", \"N/A\")\n",
        "            situacao = properties.get(\"situacao\", \"N/A\")\n",
        "            area_total = properties.get(\"area_total\", \"N/A\")\n",
        "            municipio = properties.get(\"municipio\", \"N/A\")\n",
        "\n",
        "\n",
        "            popup_content = f\"\"\"\n",
        "                <b>Código do Imóvel:</b> {codigo_imovel}<br>\n",
        "                <b>Situação:</b> {situacao}<br>\n",
        "                <b>Área Total:</b> {area_total} ha<br>\n",
        "                <b>Município:</b> {municipio}\n",
        "            \"\"\"\n",
        "            popup = folium.Popup(popup_content, max_width=300)\n",
        "\n",
        "\n",
        "            folium.GeoJson(\n",
        "                feature,\n",
        "                style_function=lambda x: {\n",
        "                    \"fillColor\": \"#ff7800\",\n",
        "                    \"color\": \"black\",\n",
        "                    \"weight\": 2,\n",
        "                    \"fillOpacity\": 0.5\n",
        "                }\n",
        "            ).add_child(popup).add_to(sigef_layer)\n",
        "\n",
        "\n",
        "        sigef_layer.add_to(mapa_bahia)\n",
        "\n",
        "    else:\n",
        "        print(f\"Erro ao acessar SIGEF: {response.status_code}\")\n",
        "\n",
        "except requests.exceptions.RequestException as e:\n",
        "    print(f\"Erro na requisição: {e}\")\n",
        "\n",
        "\n",
        "folium.LayerControl().add_to(mapa_bahia)\n",
        "mapa_bahia.add_child(MousePosition())\n",
        "\n",
        "\n",
        "mapa_bahia.save(\"mapa-sigef-bahia.html\")\n",
        "\n",
        "\n",
        "IPython.display.display(IPython.display.HTML('<a href=\"/content/mapa-sigef-bahia.html\" target=\"_blank\">Clique aqui para abrir o mapa</a>'))"
      ],
      "metadata": {
        "colab": {
          "base_uri": "https://localhost:8080/",
          "height": 490
        },
        "id": "dkG5lta2xEhn",
        "outputId": "8c1e52aa-aeeb-4522-fc98-c4af273437fc"
      },
      "execution_count": 9,
      "outputs": [
        {
          "output_type": "stream",
          "name": "stdout",
          "text": [
            "Requirement already satisfied: folium in /usr/local/lib/python3.11/dist-packages (0.19.4)\n",
            "Requirement already satisfied: geopandas in /usr/local/lib/python3.11/dist-packages (1.0.1)\n",
            "Requirement already satisfied: requests in /usr/local/lib/python3.11/dist-packages (2.32.3)\n",
            "Requirement already satisfied: branca>=0.6.0 in /usr/local/lib/python3.11/dist-packages (from folium) (0.8.1)\n",
            "Requirement already satisfied: jinja2>=2.9 in /usr/local/lib/python3.11/dist-packages (from folium) (3.1.5)\n",
            "Requirement already satisfied: numpy in /usr/local/lib/python3.11/dist-packages (from folium) (1.26.4)\n",
            "Requirement already satisfied: xyzservices in /usr/local/lib/python3.11/dist-packages (from folium) (2025.1.0)\n",
            "Requirement already satisfied: pyogrio>=0.7.2 in /usr/local/lib/python3.11/dist-packages (from geopandas) (0.10.0)\n",
            "Requirement already satisfied: packaging in /usr/local/lib/python3.11/dist-packages (from geopandas) (24.2)\n",
            "Requirement already satisfied: pandas>=1.4.0 in /usr/local/lib/python3.11/dist-packages (from geopandas) (2.2.2)\n",
            "Requirement already satisfied: pyproj>=3.3.0 in /usr/local/lib/python3.11/dist-packages (from geopandas) (3.7.0)\n",
            "Requirement already satisfied: shapely>=2.0.0 in /usr/local/lib/python3.11/dist-packages (from geopandas) (2.0.7)\n",
            "Requirement already satisfied: charset-normalizer<4,>=2 in /usr/local/lib/python3.11/dist-packages (from requests) (3.4.1)\n",
            "Requirement already satisfied: idna<4,>=2.5 in /usr/local/lib/python3.11/dist-packages (from requests) (3.10)\n",
            "Requirement already satisfied: urllib3<3,>=1.21.1 in /usr/local/lib/python3.11/dist-packages (from requests) (2.3.0)\n",
            "Requirement already satisfied: certifi>=2017.4.17 in /usr/local/lib/python3.11/dist-packages (from requests) (2025.1.31)\n",
            "Requirement already satisfied: MarkupSafe>=2.0 in /usr/local/lib/python3.11/dist-packages (from jinja2>=2.9->folium) (3.0.2)\n",
            "Requirement already satisfied: python-dateutil>=2.8.2 in /usr/local/lib/python3.11/dist-packages (from pandas>=1.4.0->geopandas) (2.8.2)\n",
            "Requirement already satisfied: pytz>=2020.1 in /usr/local/lib/python3.11/dist-packages (from pandas>=1.4.0->geopandas) (2025.1)\n",
            "Requirement already satisfied: tzdata>=2022.7 in /usr/local/lib/python3.11/dist-packages (from pandas>=1.4.0->geopandas) (2025.1)\n",
            "Requirement already satisfied: six>=1.5 in /usr/local/lib/python3.11/dist-packages (from python-dateutil>=2.8.2->pandas>=1.4.0->geopandas) (1.17.0)\n",
            "Erro ao acessar SIGEF: 404\n"
          ]
        },
        {
          "output_type": "stream",
          "name": "stderr",
          "text": [
            "/usr/local/lib/python3.11/dist-packages/urllib3/connectionpool.py:1097: InsecureRequestWarning: Unverified HTTPS request is being made to host 'acervofundiario.incra.gov.br'. Adding certificate verification is strongly advised. See: https://urllib3.readthedocs.io/en/latest/advanced-usage.html#tls-warnings\n",
            "  warnings.warn(\n"
          ]
        },
        {
          "output_type": "display_data",
          "data": {
            "text/plain": [
              "<IPython.core.display.HTML object>"
            ],
            "text/html": [
              "<a href=\"/content/mapa-sigef-bahia.html\" target=\"_blank\">Clique aqui para abrir o mapa</a>"
            ]
          },
          "metadata": {}
        }
      ]
    },
    {
      "cell_type": "markdown",
      "source": [
        "# Nova seção"
      ],
      "metadata": {
        "id": "Sq2TT80GS88m"
      }
    },
    {
      "cell_type": "code",
      "source": [
        "from google.colab import drive\n",
        "drive.mount('/content/drive')"
      ],
      "metadata": {
        "colab": {
          "base_uri": "https://localhost:8080/"
        },
        "id": "2LkJW3ZSNcLq",
        "outputId": "cd0d014b-fda5-4c0e-d271-1c506b37c97a"
      },
      "execution_count": 8,
      "outputs": [
        {
          "output_type": "stream",
          "name": "stdout",
          "text": [
            "Drive already mounted at /content/drive; to attempt to forcibly remount, call drive.mount(\"/content/drive\", force_remount=True).\n"
          ]
        }
      ]
    }
  ]
}